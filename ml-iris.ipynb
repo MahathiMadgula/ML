{
 "cells": [
  {
   "cell_type": "code",
   "execution_count": 40,
   "metadata": {},
   "outputs": [],
   "source": [
    "import csv\n",
    "import random\n",
    "def loadDataset(filename,split,training=[],test=[]):\n",
    "    with open(filename,'r') as csvfile:\n",
    "        lines=csv.reader(csvfile)\n",
    "        dataset=list(lines)\n",
    "    for x in range(1,len(dataset)-1):\n",
    "        for y in range(4):\n",
    "            dataset[x][y]=float(dataset[x][y])\n",
    "        if random.random()<=split:\n",
    "            training.append(dataset[x])\n",
    "        else:\n",
    "            test.append(dataset[x])\n"
   ]
  },
  {
   "cell_type": "code",
   "execution_count": 41,
   "metadata": {},
   "outputs": [],
   "source": [
    "import math\n",
    "def euclideanDist(instance1,instance2,length):\n",
    "    distance=0\n",
    "    for x in range(length):\n",
    "        distance+=pow((instance1[x]-instance2[x]),2)\n",
    "    return math.sqrt(distance)"
   ]
  },
  {
   "cell_type": "code",
   "execution_count": 42,
   "metadata": {},
   "outputs": [],
   "source": [
    "import operator\n",
    "def getNeighbors(trainingSet,testIns,k):\n",
    "    dist=[]\n",
    "    length=len(testIns)-1\n",
    "    for x in range(len(trainingSet)):\n",
    "        distance=euclideanDist(testIns,trainingSet[x],length)\n",
    "        dist.append((trainingSet[x],distance))\n",
    "    dist.sort(key=operator.itemgetter(1))\n",
    "    neighbors=[]\n",
    "    for x in range(k):\n",
    "        neighbors.append(dist[x][0])\n",
    "    return neighbors\n",
    "        "
   ]
  },
  {
   "cell_type": "code",
   "execution_count": 43,
   "metadata": {},
   "outputs": [],
   "source": [
    "import operator\n",
    "def getResponse(neighbors):\n",
    "    classVotes={}\n",
    "    for x in range(len(neighbors)):\n",
    "        response=neighbors[x][-1]\n",
    "        if response in classVotes:\n",
    "            classVotes[response]+=1\n",
    "        else:\n",
    "            classVotes[response]=1\n",
    "    #sortedVotes=sorted(classVotes.iteritems,key=operator.itemgetter(1),reverse=True)\n",
    "    sortedVotes=sorted(classVotes,reverse=True)\n",
    "    return sortedVotes[0]\n"
   ]
  },
  {
   "cell_type": "code",
   "execution_count": 44,
   "metadata": {},
   "outputs": [],
   "source": [
    "def Accuracy(testSet,predictions):\n",
    "    correct=0\n",
    "    for x in range(len(testSet)):\n",
    "        if (testSet[x][-1]==predictions[x]):\n",
    "            correct+=1\n",
    "    print('Accuracy: ')\n",
    "    print(correct/float(len(testSet))*100)"
   ]
  },
  {
   "cell_type": "code",
   "execution_count": 45,
   "metadata": {},
   "outputs": [
    {
     "name": "stdout",
     "output_type": "stream",
     "text": [
      "TrainSet: 89\n",
      "TestSet: 60\n",
      "Predicted = 'Iris-setosa' Actual = 'Iris-setosa'\n",
      "Predicted = 'Iris-setosa' Actual = 'Iris-setosa'\n",
      "Predicted = 'Iris-setosa' Actual = 'Iris-setosa'\n",
      "Predicted = 'Iris-setosa' Actual = 'Iris-setosa'\n",
      "Predicted = 'Iris-setosa' Actual = 'Iris-setosa'\n",
      "Predicted = 'Iris-setosa' Actual = 'Iris-setosa'\n",
      "Predicted = 'Iris-setosa' Actual = 'Iris-setosa'\n",
      "Predicted = 'Iris-setosa' Actual = 'Iris-setosa'\n",
      "Predicted = 'Iris-setosa' Actual = 'Iris-setosa'\n",
      "Predicted = 'Iris-setosa' Actual = 'Iris-setosa'\n",
      "Predicted = 'Iris-setosa' Actual = 'Iris-setosa'\n",
      "Predicted = 'Iris-setosa' Actual = 'Iris-setosa'\n",
      "Predicted = 'Iris-setosa' Actual = 'Iris-setosa'\n",
      "Predicted = 'Iris-setosa' Actual = 'Iris-setosa'\n",
      "Predicted = 'Iris-setosa' Actual = 'Iris-setosa'\n",
      "Predicted = 'Iris-setosa' Actual = 'Iris-setosa'\n",
      "Predicted = 'Iris-setosa' Actual = 'Iris-setosa'\n",
      "Predicted = 'Iris-setosa' Actual = 'Iris-setosa'\n",
      "Predicted = 'Iris-setosa' Actual = 'Iris-setosa'\n",
      "Predicted = 'Iris-setosa' Actual = 'Iris-setosa'\n",
      "Predicted = 'Iris-setosa' Actual = 'Iris-setosa'\n",
      "Predicted = 'Iris-setosa' Actual = 'Iris-setosa'\n",
      "Predicted = 'Iris-setosa' Actual = 'Iris-setosa'\n",
      "Predicted = 'Iris-setosa' Actual = 'Iris-setosa'\n",
      "Predicted = 'Iris-versicolor' Actual = 'Iris-versicolor'\n",
      "Predicted = 'Iris-versicolor' Actual = 'Iris-versicolor'\n",
      "Predicted = 'Iris-versicolor' Actual = 'Iris-versicolor'\n",
      "Predicted = 'Iris-virginica' Actual = 'Iris-versicolor'\n",
      "Predicted = 'Iris-versicolor' Actual = 'Iris-versicolor'\n",
      "Predicted = 'Iris-versicolor' Actual = 'Iris-versicolor'\n",
      "Predicted = 'Iris-versicolor' Actual = 'Iris-versicolor'\n",
      "Predicted = 'Iris-versicolor' Actual = 'Iris-versicolor'\n",
      "Predicted = 'Iris-versicolor' Actual = 'Iris-versicolor'\n",
      "Predicted = 'Iris-versicolor' Actual = 'Iris-versicolor'\n",
      "Predicted = 'Iris-versicolor' Actual = 'Iris-versicolor'\n",
      "Predicted = 'Iris-versicolor' Actual = 'Iris-versicolor'\n",
      "Predicted = 'Iris-versicolor' Actual = 'Iris-versicolor'\n",
      "Predicted = 'Iris-versicolor' Actual = 'Iris-versicolor'\n",
      "Predicted = 'Iris-versicolor' Actual = 'Iris-versicolor'\n",
      "Predicted = 'Iris-versicolor' Actual = 'Iris-versicolor'\n",
      "Predicted = 'Iris-versicolor' Actual = 'Iris-versicolor'\n",
      "Predicted = 'Iris-virginica' Actual = 'Iris-virginica'\n",
      "Predicted = 'Iris-virginica' Actual = 'Iris-virginica'\n",
      "Predicted = 'Iris-versicolor' Actual = 'Iris-virginica'\n",
      "Predicted = 'Iris-virginica' Actual = 'Iris-virginica'\n",
      "Predicted = 'Iris-virginica' Actual = 'Iris-virginica'\n",
      "Predicted = 'Iris-virginica' Actual = 'Iris-virginica'\n",
      "Predicted = 'Iris-virginica' Actual = 'Iris-virginica'\n",
      "Predicted = 'Iris-virginica' Actual = 'Iris-virginica'\n",
      "Predicted = 'Iris-virginica' Actual = 'Iris-virginica'\n",
      "Predicted = 'Iris-virginica' Actual = 'Iris-virginica'\n",
      "Predicted = 'Iris-virginica' Actual = 'Iris-virginica'\n",
      "Predicted = 'Iris-virginica' Actual = 'Iris-virginica'\n",
      "Predicted = 'Iris-virginica' Actual = 'Iris-virginica'\n",
      "Predicted = 'Iris-virginica' Actual = 'Iris-virginica'\n",
      "Predicted = 'Iris-virginica' Actual = 'Iris-virginica'\n",
      "Predicted = 'Iris-virginica' Actual = 'Iris-virginica'\n",
      "Predicted = 'Iris-virginica' Actual = 'Iris-virginica'\n",
      "Predicted = 'Iris-virginica' Actual = 'Iris-virginica'\n",
      "Predicted = 'Iris-virginica' Actual = 'Iris-virginica'\n",
      "Accuracy: \n",
      "96.66666666666667\n"
     ]
    }
   ],
   "source": [
    "def main1():\n",
    "    trainingSet=[]\n",
    "    testSet=[]\n",
    "    split=.67\n",
    "    loadDataset(r'C:\\Users\\ssc\\Documents\\ml DS\\irisDS\\iris.txt',split,trainingSet,testSet)\n",
    "    print('TrainSet: '+repr(len(trainingSet)))\n",
    "    print('TestSet: '+repr(len(testSet)))\n",
    "    k=3\n",
    "    predictions=[]\n",
    "    for x in range(len(testSet)):\n",
    "        neigh=getNeighbors(trainingSet,testSet[x],k)\n",
    "        result=getResponse(neigh)\n",
    "        predictions.append(result)\n",
    "        print('Predicted = '+repr(result)+' Actual = '+repr(testSet[x][-1]))\n",
    "    Accuracy(testSet,predictions)\n",
    "main1()"
   ]
  },
  {
   "cell_type": "code",
   "execution_count": null,
   "metadata": {},
   "outputs": [],
   "source": []
  },
  {
   "cell_type": "code",
   "execution_count": null,
   "metadata": {},
   "outputs": [],
   "source": []
  },
  {
   "cell_type": "code",
   "execution_count": null,
   "metadata": {},
   "outputs": [],
   "source": []
  }
 ],
 "metadata": {
  "kernelspec": {
   "display_name": "Python 3",
   "language": "python",
   "name": "python3"
  },
  "language_info": {
   "codemirror_mode": {
    "name": "ipython",
    "version": 3
   },
   "file_extension": ".py",
   "mimetype": "text/x-python",
   "name": "python",
   "nbconvert_exporter": "python",
   "pygments_lexer": "ipython3",
   "version": "3.7.0"
  }
 },
 "nbformat": 4,
 "nbformat_minor": 2
}
